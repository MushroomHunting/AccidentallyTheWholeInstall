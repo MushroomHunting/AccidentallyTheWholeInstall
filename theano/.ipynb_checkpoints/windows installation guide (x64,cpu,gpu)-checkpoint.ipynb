{
 "cells": [
  {
   "cell_type": "markdown",
   "metadata": {
    "collapsed": true
   },
   "source": [
    "Adapted from https://github.com/philferriere/dlwin\n",
    "\n",
    "additional references:\n",
    " - https://stackoverflow.com/questions/42728877/using-pymc3-on-windows-10-theano-cannot-import-name-floatx?noredirect=1#comment72639271_42728877\n",
    " - https://stackoverflow.com/a/44503723/2123721\n",
    " - http://deeplearning.net/software/libgpuarray/installation.html#windows-specific-instructions"
   ]
  },
  {
   "cell_type": "heading",
   "level": 1,
   "metadata": {},
   "source": [
    "1. Install Anaconda for windows x64 with python 3.6: https://www.anaconda.com/download/"
   ]
  },
  {
   "cell_type": "heading",
   "level": 6,
   "metadata": {},
   "source": [
    "2. Define the following variable and update PATH:"
   ]
  },
  {
   "cell_type": "markdown",
   "metadata": {},
   "source": [
    "    Define sysenv variable PYTHON_HOME with the value C:\\<ANACONDA_DIRECTORY>\\\n",
    "    Add %PYTHON_HOME%, %PYTHON_HOME%\\Scripts, and %PYTHON_HOME%\\Library\\bin to PATH"
   ]
  },
  {
   "cell_type": "heading",
   "level": 6,
   "metadata": {},
   "source": [
    "3. Open Anaconda prompt and with a given environment name and activate it:"
   ]
  },
  {
   "cell_type": "markdown",
   "metadata": {},
   "source": [
    "conda create --yes -n my_custom_py36_env python=3.6 anaconda numpy scipy mkl-service m2w64-toolchain libpython jupyter"
   ]
  },
  {
   "cell_type": "markdown",
   "metadata": {},
   "source": [
    "activate my_custom_py36_env"
   ]
  },
  {
   "cell_type": "heading",
   "level": 6,
   "metadata": {},
   "source": [
    "4. Install Theano using rcdonnelly's channel"
   ]
  },
  {
   "cell_type": "markdown",
   "metadata": {},
   "source": [
    "conda install -c rdonnelly Theano"
   ]
  },
  {
   "cell_type": "heading",
   "level": 2,
   "metadata": {},
   "source": [
    "4 (OPTION 1). Install pygpu and theano individually from the conda or conda-forge channels"
   ]
  },
  {
   "cell_type": "markdown",
   "metadata": {},
   "source": [
    "conda install pygpu==0.6.2 nose theano"
   ]
  },
  {
   "cell_type": "markdown",
   "metadata": {},
   "source": [
    "conda install -c conda-forge theano pygpu"
   ]
  },
  {
   "cell_type": "heading",
   "level": 4,
   "metadata": {},
   "source": [
    "5. Run the cpu_gpu.py test file:"
   ]
  },
  {
   "cell_type": "code",
   "execution_count": null,
   "metadata": {},
   "outputs": [
    {
     "name": "stderr",
     "output_type": "stream",
     "text": [
      "Can not use cuDNN on context None: Disabled by dnn.enabled flag\n",
      "Preallocating 1638/2048 Mb (0.800000) on cuda0\n",
      "Mapped name None to device cuda0: GeForce GTX 960M (0000:01:00.0)\n"
     ]
    },
    {
     "name": "stdout",
     "output_type": "stream",
     "text": [
      "[GpuElemwise{exp,no_inplace}(<GpuArrayType<None>(float64, (False,))>), HostFromGpu(gpuarray)(GpuElemwise{exp,no_inplace}.0)]\n",
      "Looping 1000 times took 1.009000 seconds\n",
      "Result is [ 1.23178032  1.61879341  1.52278065 ...,  2.20771815  2.29967753\n",
      "  1.62323285]\n",
      "Used the gpu\n"
     ]
    }
   ],
   "source": [
    "from theano import function, config, shared, tensor\n",
    "import numpy\n",
    "import time\n",
    "\n",
    "vlen = 10 * 30 * 768  # 10 x #cores x # threads per core\n",
    "iters = 1000\n",
    "\n",
    "rng = numpy.random.RandomState(22)\n",
    "x = shared(numpy.asarray(rng.rand(vlen), config.floatX))\n",
    "f = function([], tensor.exp(x))\n",
    "print(f.maker.fgraph.toposort())\n",
    "t0 = time.time()\n",
    "for i in range(iters):\n",
    "    r = f()\n",
    "t1 = time.time()\n",
    "print(\"Looping %d times took %f seconds\" % (iters, t1 - t0))\n",
    "print(\"Result is %s\" % (r,))\n",
    "if numpy.any([isinstance(x.op, tensor.Elemwise) and\n",
    "              ('Gpu' not in type(x.op).__name__)\n",
    "              for x in f.maker.fgraph.toposort()]):\n",
    "    print('Used the cpu')\n",
    "else:\n",
    "    print('Used the gpu')"
   ]
  },
  {
   "cell_type": "code",
   "execution_count": null,
   "metadata": {
    "collapsed": true
   },
   "outputs": [],
   "source": []
  }
 ],
 "metadata": {
  "kernelspec": {
   "display_name": "Python 3",
   "language": "python",
   "name": "python3"
  },
  "language_info": {
   "codemirror_mode": {
    "name": "ipython",
    "version": 3
   },
   "file_extension": ".py",
   "mimetype": "text/x-python",
   "name": "python",
   "nbconvert_exporter": "python",
   "pygments_lexer": "ipython3",
   "version": "3.6.2"
  }
 },
 "nbformat": 4,
 "nbformat_minor": 1
}
