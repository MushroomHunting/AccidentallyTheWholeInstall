{
 "cells": [
  {
   "cell_type": "markdown",
   "metadata": {
    "collapsed": true
   },
   "source": [
    "\n",
    "\n",
    "Here is something you can try:\n",
    "\n",
    "If you have Visual Studio installed, and Python Native Development Tools installed.\n",
    "\n",
    "In Anaconda3, you can get VTK7.1.x from clinicalgraphics\n",
    "\n",
    "conda install -c clinicalgraphics vtk\n",
    "\n",
    "Open up the VS20xx x64 Native Command Prompt, setting up PATH for python properly: e.g. C:\\Anaconda3\\Scripts\\activate.bat C:\\Anaconda3\n",
    "\n",
    "Then install mayavi using pip from source.\n",
    "\n",
    "pip install mayavi\n",
    "\n",
    "It compiles successfully with VS2017 and Python 3.6 in windows 10.\n"
   ]
  }
 ],
 "metadata": {
  "kernelspec": {
   "display_name": "Python 2",
   "language": "python",
   "name": "python2"
  },
  "language_info": {
   "codemirror_mode": {
    "name": "ipython",
    "version": 2
   },
   "file_extension": ".py",
   "mimetype": "text/x-python",
   "name": "python",
   "nbconvert_exporter": "python",
   "pygments_lexer": "ipython2",
   "version": "2.7.6"
  }
 },
 "nbformat": 4,
 "nbformat_minor": 0
}
